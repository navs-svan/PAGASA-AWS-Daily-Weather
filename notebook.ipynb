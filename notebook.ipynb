{
 "cells": [
  {
   "cell_type": "code",
   "execution_count": 1,
   "metadata": {},
   "outputs": [],
   "source": [
    "import requests\n",
    "from bs4 import BeautifulSoup\n",
    "import pandas as pd"
   ]
  },
  {
   "cell_type": "code",
   "execution_count": 2,
   "metadata": {},
   "outputs": [],
   "source": [
    "r= requests.get(\"https://bagong.pagasa.dost.gov.ph/automated-weather-station/\")"
   ]
  },
  {
   "cell_type": "code",
   "execution_count": 3,
   "metadata": {},
   "outputs": [],
   "source": [
    "soup = BeautifulSoup(r.text, \"lxml\")"
   ]
  },
  {
   "cell_type": "code",
   "execution_count": 4,
   "metadata": {},
   "outputs": [],
   "source": [
    "site_table = soup.select(\"table.table tr\")\n"
   ]
  },
  {
   "cell_type": "code",
   "execution_count": 5,
   "metadata": {},
   "outputs": [
    {
     "name": "stdout",
     "output_type": "stream",
     "text": [
      "{'Site ID': [], 'Site Name': [], 'Temperature': [], 'Humidity': [], 'Wind Speed': [], 'Wind Direction': [], 'Precipitation': [], 'Pressure': [], 'Solar Radiation': [], 'Last Updated': []}\n"
     ]
    }
   ],
   "source": [
    "# Header values\n",
    "\n",
    "cols = site_table[0].select(\"th\")\n",
    "\n",
    "data_dict = {data.get_text():[] for data in cols}\n",
    "\n",
    "print(data_dict)\n"
   ]
  },
  {
   "cell_type": "code",
   "execution_count": 6,
   "metadata": {},
   "outputs": [
    {
     "name": "stdout",
     "output_type": "stream",
     "text": [
      "{'Site ID': ['98', '5001', '5008', '5010', '5012', '5013', '5014', '5015', '5017', '5018', '5019', '5021', '5023', '5025', '5026', '5027', '5029', '5032', '5033', '5034', '5035', '5037', '5038', '5039', '5041', '5042', '5043', '5047', '5048', '5052', '5053', '5054', '5057', '5058', '5059', '5060', '5061', '5068', '5072', '5076', '5077', '5079', '5081', '5104', '5105', '5106', '5107', '5110', '5112', '5113', '5114', '5116', '5117', '5118', '5120', '5121', '5122', '5123', '5124', '5126', '5128', '5129', '5130', '5131', '5132', '5135', '5136', '5138', '5140', '5141', '5142', '5143', '5144', '5145', '5147', '5148', '5149', '5150', '5151', '5155', '5156', '5157', '5158', '5159', '5160', '5161', '5162', '5163', '5164', '5166', '5167', '5170', '5172', '5174', '5175', '5176', '5177', '5178', '5179', '5180', '5181', '5182', '5183', '5184', '5185', '5186', '5187', '5188', '5189', '5190', '5191'], 'Site Name': ['Science Garden, Quezon City', 'San Jose Synoptic Station', 'Tampakan, South Cotobato', 'Ozamis, Misamis Occidental', 'Laoag, Ilocos Norte AWS', 'San Enrique, Iloilo AWS', 'Daet, Camarines Norte AWS', 'Guiuan, Eastern Samar AWS', 'Batac,Ilocos Norte AWS', 'Sinait, Ilocos Sur AWS', 'Bacnotan, La Union AWS', 'Atok, Benguet AWS', 'San Marcelino, Zambales AWS', 'Tuguegarao, Cagayan AWS', 'Echague, Isabela AWS', 'Bayombong,Nueva Vizcaya AWS', 'San Ildefonso, Bulacan AWS', 'Camiling, Tarlac AWS', 'Tanay, Rizal AWS', 'UP Los Banos, Laguna AWS', 'Indang, Cavite AWS', 'Pili Camarines Sur AWS', 'Guinobatan, Albay AWS', 'Virac, Catanduanes AWS', 'Sorsogon, Sorsogon AWS', 'Gamay, Northern Samar AWS', 'Baybay, Leyte AWS', 'Mambusao, Capiz AWS', 'Sibalom, Antique AWS', 'Mambajao, Camiguin AWS', 'Talisayan, Misamis Oriental AWS', 'Nasipit, Agusan del Norte AWS', 'Nabunturan, Davao de Oro AWS', 'Tagum, Davao del Norte AWS', 'Kabacan, Cotabato AWS', 'Tantangan, South Cotabato AWS', 'Valencia, Bukidnon AWS', 'RTR Philrice, Agusan del Norte AWS', 'Naval, Biliran AWS', 'Maddela, Quirino AWS', 'Apayao AWS', 'San Jacinto, Ticao Island, Masbate AWS', 'Hinunangan, Southern Leyte AWS', 'Sta Ana, Cagayan AWS', 'Aparri, Cagayan AWS', 'Palanan, Isabela AWS', 'Baler Synoptic Station AWS', 'Dagupan Pangasinan AWS', 'Tagaytay AWS', 'Ambulong Tanauan Batangas AWS', 'Tayabas, Quezon AWS', 'Taal, Batangas AWS', 'Lipa, Batangas AWS', 'Mabini, Batangas AWS', 'Puerto Galera, Mindoro Oriental AWS', 'Sta Cruz, Mindoro Occidental AWS', 'Calapan, Mindoro Oriental AWS', 'Coron, Palawan AWS', 'Puerto Princesa, Palawan AWS', 'Juban Sorsogon Synoptic', 'Legazpi AWS', 'Milagros, Masbate AWS', 'Catarman Northern Samar AWS', 'Tacloban, Leyte AWS', 'Maasin, Southern Leyte AWS', 'Dalaguete, Cebu AWS', 'Iloilo Radar Station AWS', 'Mactan, Cebu AWS', 'Surigao Synoptic Station AWS', 'Butuan, Agusan del Norte AWS', 'Hinatuan, Surigao del Sur ', 'Sindangan Zamboanga del Norte', 'Malaybalay Bukidnon AWS', 'Maasim, Sarangani AWS', 'Davao City AWS', 'Bago Oshiro, Talomo, Davao City AWS', 'Gen. Santos City AWS', 'Kiamba, Sarangani AWS', 'Zamboanga City AWS', 'Calayan, Cagayan AWS', 'Pagudpud, Ilocos Norte AWS', 'Bangui, Ilocos Norte', 'Tabuk, Kalinga AWS', 'Maconacon, Isabela AWS', 'Dilasag, Aurora AWS', 'Hermosa, Bataan AWS', 'Mulanay, Quezon AWS', 'Garchitorena, Camarines Sur AWS', 'Villaba, Leyte AWS', 'Tuburan, Cebu AWS', 'Camotes Island, Poro, Cebu AWS', 'Cauayan, Negros Occidental AWS ', 'Dumaguete Synop Station', 'Lanuza, Surigao del Sur AWS', 'Loreto, Agusan del Sur AWS', 'Baganga, Davao Oriental AWS', 'Don Marcelino, Davao Occidental AWS', 'Esperanza, Sultan Kudarat AWS', 'Senator Ninoy Aquino, Sultan Kudarat AWS', 'Libungan, North Cotabato AWS', 'Glan, Sarangani AWS', 'Lanise, Claveria, Mis. Oriental', 'Laguindingan, Misamis Oriental AWS', 'Musuan, Bukidnon AWS', 'Lantapan, Bukidnon AWS', 'Kabasalan, Zamboanga Sibugay AWS', 'La Libertad, Zamboanga del Norte AWS', 'Sirawai, Zamboanga del Norte AWS', 'Pagadian City, Zamboanga del Sur AWS', 'Dumingag, Zamboanga del Sur AWS', 'Pitogo, Zamboanga del Sur AWS'], 'Temperature': ['25 °C', '30 °C', '32 °C', '25 °C', '26 °C', '27 °C', '29 °C', '30 °C', '27 °C', '25 °C', '25 °C', '-- °C', '25 °C', '28 °C', '29 °C', '-- °C', '-- °C', '26 °C', '22 °C', '29 °C', '24 °C', '-- °C', '-- °C', '29 °C', '-- °C', '28 °C', '28 °C', '-- °C', '-- °C', '-- °C', '-- °C', '27 °C', '26 °C', '-- °C', '-- °C', '26 °C', '24 °C', '28 °C', '27 °C', '-- °C', '-- °C', '28 °C', '-- °C', '-- °C', '-- °C', '-- °C', '26 °C', '-- °C', '23 °C', '28 °C', '28 °C', '28 °C', '25 °C', '27 °C', '27 °C', '25 °C', '-- °C', '-- °C', '27 °C', '28 °C', '-- °C', '-- °C', '28 °C', '26 °C', '28 °C', '16 °C', '27 °C', '28 °C', '-- °C', '28 °C', '-- °C', '29 °C', '22 °C', '-- °C', '28 °C', '27 °C', '25 °C', '-- °C', '26 °C', '28 °C', '35 °C', '-- °C', '-- °C', '-- °C', '27 °C', '25 °C', '28 °C', '-- °C', '-- °C', '28 °C', '29 °C', '27 °C', '27 °C', '26 °C', '27 °C', '24 °C', '26 °C', '25 °C', '22 °C', '25 °C', '24 °C', '-- °C', '28 °C', '24 °C', '25 °C', '-- °C', '26 °C', '26 °C', '24 °C', '25 °C', '26 °C'], 'Humidity': ['99 %', '75 %', '59 %', '74 %', '93 %', '86 %', '80 %', '84 %', '89 %', '97 %', '90 %', '-- %', '97 %', '87 %', '100 %', '80 %', '-- %', '100 %', '100 %', '77 %', '100 %', '-- %', '-- %', '78 %', '-- %', '79 %', '80 %', '-- %', '-- %', '-- %', '-- %', '94 %', '90 %', '25 %', '-- %', '83 %', '95 %', '82 %', '79 %', '23 %', '-- %', '77 %', '-- %', '-- %', '-- %', '-- %', '94 %', '15 %', '95 %', '82 %', '64 %', '78 %', '94 %', '67 %', '77 %', '91 %', '-- %', '-- %', '81 %', '77 %', '-- %', '-- %', '72 %', '92 %', '87 %', '66 %', '80 %', '66 %', '-- %', '90 %', '-- %', '76 %', '90 %', '-- %', '78 %', '81 %', '85 %', '-- %', '94 %', '81 %', '93 %', '-- %', '-- %', '-- %', '99 %', '92 %', '80 %', '-- %', '-- %', '75 %', '73 %', '86 %', '74 %', '81 %', '85 %', '93 %', '81 %', '89 %', '88 %', '85 %', '88 %', '-- %', '78 %', '93 %', '75 %', '-- %', '90 %', '80 %', '90 %', '86 %', '78 %'], 'Wind Speed': ['3.6 km/hr', '3.6 km/hr', '0 km/hr', '3.6 km/hr', '7.2 km/hr', '7.2 km/hr', '7.2 km/hr', '10.8 km/hr', '14.4 km/hr', '0 km/hr', '0 km/hr', '0 km/hr', '3.6 km/hr', '3.6 km/hr', '14.4 km/hr', '14.4 km/hr', '3.6 km/hr', '3.6 km/hr', '14.4 km/hr', '7.2 km/hr', '0 km/hr', '0 km/hr', '3.6 km/hr', '0 km/hr', '14.4 km/hr', '0 km/hr', '0 km/hr', '0 km/hr', '7.2 km/hr', '0 km/hr', '10.8 km/hr', '18 km/hr', '0 km/hr', '0 km/hr', '0 km/hr', '7.2 km/hr', '3.6 km/hr', '0 km/hr', '0 km/hr', '3.6 km/hr', '3.6 km/hr', '0 km/hr', '0 km/hr', '0 km/hr', '0 km/hr', '0 km/hr', '0 km/hr', '0 km/hr', '10.8 km/hr', '3.6 km/hr', '3.6 km/hr', '3.6 km/hr', '0 km/hr', '0 km/hr', '0 km/hr', '0 km/hr', '0 km/hr', '0 km/hr', '3.6 km/hr', '3.6 km/hr', '0 km/hr', '7.2 km/hr', '3.6 km/hr', '0 km/hr', '7.2 km/hr', '3.6 km/hr', '0 km/hr', '0 km/hr', '0 km/hr', '7.2 km/hr', '0 km/hr', '0 km/hr', '0 km/hr', '3.6 km/hr', '0 km/hr', '0 km/hr', '14.4 km/hr', '3.6 km/hr', '3.6 km/hr', '3.6 km/hr', '3.6 km/hr', '28.8 km/hr', '7.2 km/hr', '0 km/hr', '7.2 km/hr', '7.2 km/hr', '21.6 km/hr', '0 km/hr', '3.6 km/hr', '3.6 km/hr', '7.2 km/hr', '3.6 km/hr', '3.6 km/hr', '3.6 km/hr', '0 km/hr', '0 km/hr', '0 km/hr', '0 km/hr', '3.6 km/hr', '3.6 km/hr', '7.2 km/hr', '0 km/hr', '3.6 km/hr', '3.6 km/hr', '3.6 km/hr', '0 km/hr', '0 km/hr', '7.2 km/hr', '0 km/hr', '0 km/hr', '3.6 km/hr'], 'Wind Direction': ['SE', 'SW', 'NNW', 'SSE', 'SSW', 'S', 'SW', 'SSE', 'SSW', 'N', 'N', 'N', 'ENE', 'N', 'S', 'SSW', 'SSE', 'S', 'WNW', 'SE', 'N', 'SE', 'NW', 'N', 'SSE', 'WNW', 'N', 'N', 'SSE', 'E', 'WSW', 'ESE', 'SW', 'N', 'N', 'S', 'WNW', 'N', 'N', 'S', 'ENE', 'SW', 'SW', 'N', 'N', 'N', 'N', 'N', 'NNE', 'WSW', 'WSW', 'WSW', 'N', 'N', 'SW', 'E', 'ESE', 'N', 'S', 'SSW', 'SSW', 'WNW', 'SSE', 'SSW', 'SE', 'W', 'SSW', 'N', 'SSW', 'SSE', 'ESE', 'ENE', 'NNE', 'SW', 'SSW', 'N', 'NNW', 'NE', 'ESE', 'SE', 'E', 'S', 'WSW', 'N', 'SSW', 'SW', 'S', 'S', 'ENE', 'SE', 'ESE', 'SSW', 'NNW', 'SSW', 'SSE', 'W', 'SSE', 'N', 'NE', 'N', 'E', 'N', 'NNE', 'NNW', 'SSE', 'WSW', 'N', 'ENE', 'N', 'NW', 'W'], 'Precipitation': ['0 mm/hr', '0 mm/hr', '0 mm/hr', '0 mm/hr', '0 mm/hr', '0 mm/hr', '0 mm/hr', '0 mm/hr', '0 mm/hr', '1 mm/hr', '0 mm/hr', '0 mm/hr', '0 mm/hr', '0 mm/hr', '0 mm/hr', '0 mm/hr', '0 mm/hr', '0 mm/hr', '0 mm/hr', '0 mm/hr', '0 mm/hr', '0 mm/hr', '0 mm/hr', '0 mm/hr', '3 mm/hr', '0 mm/hr', '0 mm/hr', '0 mm/hr', '0 mm/hr', '0 mm/hr', '0 mm/hr', '0 mm/hr', '0 mm/hr', '0 mm/hr', '0 mm/hr', '0 mm/hr', '0 mm/hr', '0 mm/hr', '0 mm/hr', '0 mm/hr', '0 mm/hr', '0 mm/hr', '0 mm/hr', '0 mm/hr', '1 mm/hr', '0 mm/hr', '0 mm/hr', '0 mm/hr', '0 mm/hr', '0 mm/hr', '0 mm/hr', '0 mm/hr', '0 mm/hr', '0 mm/hr', '0 mm/hr', '5 mm/hr', '0 mm/hr', '0 mm/hr', '0 mm/hr', '0 mm/hr', '0 mm/hr', '6 mm/hr', '0 mm/hr', '0 mm/hr', '0 mm/hr', '0 mm/hr', '0 mm/hr', '0 mm/hr', '0 mm/hr', '0 mm/hr', '0 mm/hr', '0 mm/hr', '0 mm/hr', '0 mm/hr', '0 mm/hr', '0 mm/hr', '2 mm/hr', '0 mm/hr', '0 mm/hr', '0 mm/hr', '1 mm/hr', '0 mm/hr', '0 mm/hr', '0 mm/hr', '0 mm/hr', '0 mm/hr', '0 mm/hr', '0 mm/hr', '0 mm/hr', '0 mm/hr', '0 mm/hr', '0 mm/hr', '0 mm/hr', '0 mm/hr', '0 mm/hr', '0 mm/hr', '1 mm/hr', '0 mm/hr', '0 mm/hr', '0 mm/hr', '0 mm/hr', '0 mm/hr', '0 mm/hr', '0 mm/hr', '0 mm/hr', '0 mm/hr', '0 mm/hr', '0 mm/hr', '0 mm/hr', '0 mm/hr', '0 mm/hr'], 'Pressure': ['1001.8', '1006.8', '996.2', '958.9', '1005.9', '1005.2', '1005.8', '1066.1', '1004.7', '--', '--', '--', '--', '998.6', '997.8', '755.2', '1003.8', '--', '937.4', '1003.6', '974.2', '1003.4', '1000.5', '1004.5', '939', '1006.3', '1007.5', '1003.5', '1006.9', '1006.5', '979.7', '--', '999.5', '1006.1', '1003.1', '--', '--', '--', '1001.2', '--', '1003.2', '996.9', '1006.8', '903.1', '1004.5', '--', '985.2', '1005.3', '--', '1004.8', '988.2', '991.4', '975.7', '1000', '1005.8', '1006.6', '1001.5', '1013.9', '1003.9', '799.8', '1005.1', '1003.5', '973', '1006.6', '999.8', '930.3', '1006.7', '795.7', '1003.2', '1006.1', '1043.3', '1006.7', '929.2', '1008.5', '1006', '997.3', '995', '--', '1007.3', '1002.6', '926.8', '990', '975.7', '1003.1', '1002.5', '999.6', '1002.1', '1004.1', '1007.3', '1000.9', '1007.2', '1005.8', '1006', '1009', '1005.7', '--', '1006.9', '1002.8', '930.7', '995.6', '902', '919.2', '1000.3', '974.6', '944.7', '1006.4', '987.4', '1006.4', '799.4', '1001.4', '1006.8'], 'Solar Radiation': ['2.9', '29.3', '912', '16', '9.6', '1.7', '2.6', '26.7', '8.2', '3.9', '3.9', '--', '5.4', '1.1', '3.3', '375.8', '1.6', '2.2', '2.1', '3.2', '0.6', '0.5', '0', '0', '371.5', '0', '0', '123.2', '5', '0', '1046.1', '0', '0', '0', '0', '0', '0', '0', '0', '5.4', '0', '0', '0', '0.1', '0.1', '2.2', '0.5', '2.1', '0.1', '6.4', '10.4', '203.2', '1.1', '12.1', '4.8', '0.4', '6.1', '1.7', '83.2', '0', '0', '0', '0', '0', '0', '0.3', '1.4', '0', '0', '20.4', '0', '0.2', '0', '0', '0', '0', '0', '0', '0.9', '3', '0', '2.4', '0', '0.2', '1.3', '0.8', '0', '0', '0', '0.2', '1.1', '5.3', '1.6', '0', '0', '0', '0', '0', '0', '0', '0', '0', '0', '0', '63.6', '0', '0', '5.8', '0', '0.1', '0.3'], 'Last Updated': ['September 19, 2024, 5:50 pm', 'September 19, 2024, 5:30 pm', 'September 4, 2024, 10:30 am', 'September 19, 2024, 5:00 pm', 'September 19, 2024, 5:50 pm', 'September 19, 2024, 5:50 pm', 'September 19, 2024, 5:50 pm', 'September 19, 2024, 5:30 pm', 'September 19, 2024, 5:50 pm', 'September 19, 2024, 5:50 pm', 'September 19, 2024, 5:50 pm', 'September 1, 2024, 7:20 am', 'September 19, 2024, 5:50 pm', 'September 19, 2024, 5:50 pm', 'September 19, 2024, 5:50 pm', 'September 19, 2024, 2:00 pm', 'September 19, 2024, 5:50 pm', 'September 19, 2024, 5:50 pm', 'September 19, 2024, 5:50 pm', 'September 19, 2024, 5:50 pm', 'September 19, 2024, 5:50 pm', 'September 19, 2024, 5:50 pm', 'September 19, 2024, 5:50 pm', 'September 19, 2024, 5:50 pm', 'September 18, 2024, 10:20 am', 'September 19, 2024, 5:50 pm', 'September 19, 2024, 5:50 pm', 'September 19, 2024, 3:20 pm', 'September 19, 2024, 5:50 pm', 'September 19, 2024, 5:50 pm', 'September 19, 2024, 10:45 am', 'September 19, 2024, 5:50 pm', 'September 19, 2024, 5:50 pm', 'September 19, 2024, 5:50 pm', 'September 19, 2024, 5:50 pm', 'September 19, 2024, 5:50 pm', 'September 19, 2024, 5:50 pm', 'September 19, 2024, 5:50 pm', 'September 19, 2024, 5:50 pm', 'September 19, 2024, 5:50 pm', 'September 19, 2024, 5:50 pm', 'September 19, 2024, 5:50 pm', 'September 19, 2024, 5:55 pm', 'September 19, 2024, 5:50 pm', 'September 19, 2024, 5:50 pm', 'September 19, 2024, 5:50 pm', 'September 19, 2024, 5:50 pm', 'September 19, 2024, 5:50 pm', 'September 19, 2024, 5:50 pm', 'September 19, 2024, 5:50 pm', 'September 19, 2024, 5:40 pm', 'September 15, 2024, 4:25 pm', 'September 19, 2024, 5:50 pm', 'September 19, 2024, 5:43 pm', 'September 19, 2024, 5:50 pm', 'September 19, 2024, 5:50 pm', 'September 19, 2024, 5:50 pm', 'September 19, 2024, 5:40 pm', 'September 19, 2024, 3:40 pm', 'September 19, 2024, 5:50 pm', 'September 19, 2024, 5:50 pm', 'September 19, 2024, 5:50 pm', 'September 19, 2024, 5:50 pm', 'September 19, 2024, 5:30 am', 'September 19, 2024, 5:50 pm', 'September 19, 2024, 5:50 pm', 'September 19, 2024, 5:50 pm', 'September 19, 2024, 5:50 pm', 'September 19, 2024, 5:50 pm', 'September 19, 2024, 5:10 pm', 'September 19, 2024, 5:50 pm', 'September 19, 2024, 5:50 pm', 'September 19, 2024, 5:50 pm', 'September 19, 2024, 5:50 pm', 'September 19, 2024, 5:50 pm', 'September 19, 2024, 5:50 pm', 'September 19, 2024, 5:50 pm', 'September 19, 2024, 5:50 pm', 'September 19, 2024, 5:50 pm', 'September 19, 2024, 5:50 pm', 'September 19, 2024, 5:50 pm', 'September 19, 2024, 5:50 pm', 'September 19, 2024, 5:50 pm', 'September 19, 2024, 5:50 pm', 'September 19, 2024, 5:50 pm', 'September 19, 2024, 5:50 pm', 'September 19, 2024, 5:50 pm', 'September 19, 2024, 5:50 pm', 'September 19, 2024, 5:50 pm', 'September 19, 2024, 5:40 pm', 'September 19, 2024, 5:40 pm', 'September 19, 2024, 5:40 pm', 'September 19, 2024, 5:40 pm', 'September 19, 2024, 5:50 pm', 'September 19, 2024, 5:50 pm', 'September 19, 2024, 5:50 pm', 'September 19, 2024, 5:40 pm', 'September 19, 2024, 5:50 pm', 'September 19, 2024, 5:40 pm', 'September 19, 2024, 5:50 pm', 'September 19, 2024, 5:50 pm', 'September 19, 2024, 5:50 pm', 'September 19, 2024, 5:50 pm', 'September 19, 2024, 5:50 pm', 'September 19, 2024, 4:00 pm', 'September 19, 2024, 5:40 pm', 'September 19, 2024, 5:50 pm', 'September 19, 2024, 5:40 pm', 'September 19, 2024, 5:50 pm', 'September 19, 2024, 5:50 pm', 'September 19, 2024, 5:50 pm']}\n"
     ]
    }
   ],
   "source": [
    "\n",
    "i=0\n",
    "for row in site_table:\n",
    "    \n",
    "    cols = row.select(\"td\")\n",
    "    for key, data in zip(data_dict.keys(),cols):\n",
    "        data_dict[key].append(data.get_text())\n",
    "        \n",
    "print(data_dict)"
   ]
  },
  {
   "cell_type": "code",
   "execution_count": 7,
   "metadata": {},
   "outputs": [],
   "source": [
    "df = pd.DataFrame(data=data_dict)"
   ]
  },
  {
   "cell_type": "code",
   "execution_count": 8,
   "metadata": {},
   "outputs": [
    {
     "data": {
      "text/html": [
       "<div>\n",
       "<style scoped>\n",
       "    .dataframe tbody tr th:only-of-type {\n",
       "        vertical-align: middle;\n",
       "    }\n",
       "\n",
       "    .dataframe tbody tr th {\n",
       "        vertical-align: top;\n",
       "    }\n",
       "\n",
       "    .dataframe thead th {\n",
       "        text-align: right;\n",
       "    }\n",
       "</style>\n",
       "<table border=\"1\" class=\"dataframe\">\n",
       "  <thead>\n",
       "    <tr style=\"text-align: right;\">\n",
       "      <th></th>\n",
       "      <th>Site ID</th>\n",
       "      <th>Site Name</th>\n",
       "      <th>Temperature</th>\n",
       "      <th>Humidity</th>\n",
       "      <th>Wind Speed</th>\n",
       "      <th>Wind Direction</th>\n",
       "      <th>Precipitation</th>\n",
       "      <th>Pressure</th>\n",
       "      <th>Solar Radiation</th>\n",
       "      <th>Last Updated</th>\n",
       "    </tr>\n",
       "  </thead>\n",
       "  <tbody>\n",
       "    <tr>\n",
       "      <th>0</th>\n",
       "      <td>98</td>\n",
       "      <td>Science Garden, Quezon City</td>\n",
       "      <td>25 °C</td>\n",
       "      <td>99 %</td>\n",
       "      <td>3.6 km/hr</td>\n",
       "      <td>SE</td>\n",
       "      <td>0 mm/hr</td>\n",
       "      <td>1001.8</td>\n",
       "      <td>2.9</td>\n",
       "      <td>September 19, 2024, 5:50 pm</td>\n",
       "    </tr>\n",
       "    <tr>\n",
       "      <th>1</th>\n",
       "      <td>5001</td>\n",
       "      <td>San Jose Synoptic Station</td>\n",
       "      <td>30 °C</td>\n",
       "      <td>75 %</td>\n",
       "      <td>3.6 km/hr</td>\n",
       "      <td>SW</td>\n",
       "      <td>0 mm/hr</td>\n",
       "      <td>1006.8</td>\n",
       "      <td>29.3</td>\n",
       "      <td>September 19, 2024, 5:30 pm</td>\n",
       "    </tr>\n",
       "    <tr>\n",
       "      <th>2</th>\n",
       "      <td>5008</td>\n",
       "      <td>Tampakan, South Cotobato</td>\n",
       "      <td>32 °C</td>\n",
       "      <td>59 %</td>\n",
       "      <td>0 km/hr</td>\n",
       "      <td>NNW</td>\n",
       "      <td>0 mm/hr</td>\n",
       "      <td>996.2</td>\n",
       "      <td>912</td>\n",
       "      <td>September 4, 2024, 10:30 am</td>\n",
       "    </tr>\n",
       "    <tr>\n",
       "      <th>3</th>\n",
       "      <td>5010</td>\n",
       "      <td>Ozamis, Misamis Occidental</td>\n",
       "      <td>25 °C</td>\n",
       "      <td>74 %</td>\n",
       "      <td>3.6 km/hr</td>\n",
       "      <td>SSE</td>\n",
       "      <td>0 mm/hr</td>\n",
       "      <td>958.9</td>\n",
       "      <td>16</td>\n",
       "      <td>September 19, 2024, 5:00 pm</td>\n",
       "    </tr>\n",
       "    <tr>\n",
       "      <th>4</th>\n",
       "      <td>5012</td>\n",
       "      <td>Laoag, Ilocos Norte AWS</td>\n",
       "      <td>26 °C</td>\n",
       "      <td>93 %</td>\n",
       "      <td>7.2 km/hr</td>\n",
       "      <td>SSW</td>\n",
       "      <td>0 mm/hr</td>\n",
       "      <td>1005.9</td>\n",
       "      <td>9.6</td>\n",
       "      <td>September 19, 2024, 5:50 pm</td>\n",
       "    </tr>\n",
       "  </tbody>\n",
       "</table>\n",
       "</div>"
      ],
      "text/plain": [
       "  Site ID                    Site Name Temperature Humidity Wind Speed  \\\n",
       "0      98  Science Garden, Quezon City       25 °C     99 %  3.6 km/hr   \n",
       "1    5001    San Jose Synoptic Station       30 °C     75 %  3.6 km/hr   \n",
       "2    5008     Tampakan, South Cotobato       32 °C     59 %    0 km/hr   \n",
       "3    5010   Ozamis, Misamis Occidental       25 °C     74 %  3.6 km/hr   \n",
       "4    5012      Laoag, Ilocos Norte AWS       26 °C     93 %  7.2 km/hr   \n",
       "\n",
       "  Wind Direction Precipitation Pressure Solar Radiation  \\\n",
       "0             SE       0 mm/hr   1001.8             2.9   \n",
       "1             SW       0 mm/hr   1006.8            29.3   \n",
       "2            NNW       0 mm/hr    996.2             912   \n",
       "3            SSE       0 mm/hr    958.9              16   \n",
       "4            SSW       0 mm/hr   1005.9             9.6   \n",
       "\n",
       "                  Last Updated  \n",
       "0  September 19, 2024, 5:50 pm  \n",
       "1  September 19, 2024, 5:30 pm  \n",
       "2  September 4, 2024, 10:30 am  \n",
       "3  September 19, 2024, 5:00 pm  \n",
       "4  September 19, 2024, 5:50 pm  "
      ]
     },
     "execution_count": 8,
     "metadata": {},
     "output_type": "execute_result"
    }
   ],
   "source": [
    "df.head()"
   ]
  }
 ],
 "metadata": {
  "kernelspec": {
   "display_name": ".venv",
   "language": "python",
   "name": "python3"
  },
  "language_info": {
   "codemirror_mode": {
    "name": "ipython",
    "version": 3
   },
   "file_extension": ".py",
   "mimetype": "text/x-python",
   "name": "python",
   "nbconvert_exporter": "python",
   "pygments_lexer": "ipython3",
   "version": "3.11.2"
  }
 },
 "nbformat": 4,
 "nbformat_minor": 2
}
